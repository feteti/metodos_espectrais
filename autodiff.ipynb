{
 "cells": [
  {
   "cell_type": "code",
   "execution_count": 1,
   "id": "7176e848-a0a7-4b40-b04b-55b85f85825b",
   "metadata": {},
   "outputs": [],
   "source": [
    "import jax \n",
    "import jax.numpy as jnp"
   ]
  },
  {
   "cell_type": "code",
   "execution_count": 71,
   "id": "4693531c-6ac6-4f66-a086-8d156349934d",
   "metadata": {},
   "outputs": [
    {
     "name": "stdout",
     "output_type": "stream",
     "text": [
      "[0. 0.]\n",
      "[1.000000e+00 4.796675e-08]\n"
     ]
    }
   ],
   "source": [
    "import jax \n",
    "import jax.numpy as jnp\n",
    "\n",
    "def f(v):\n",
    "    x = v[0]\n",
    "    y = v[1]\n",
    "    fx = (jnp.power(x, 3) + y - 1)\n",
    "    fy = (jnp.power(y, 3) - x + 1)\n",
    "    return jnp.hstack([fx, fy])\n",
    "J = jax.jacfwd(f)\n",
    "xx = jnp.array([0., 0.])\n",
    "n = 100\n",
    "for _ in range(n):\n",
    "    xx = xx - jnp.linalg.inv(J(xx))@f(xx)\n",
    "print(f(xx))\n",
    "print(xx)"
   ]
  },
  {
   "cell_type": "code",
   "execution_count": 72,
   "id": "a78dde21-841a-4b80-876b-598b04a79706",
   "metadata": {},
   "outputs": [
    {
     "name": "stdout",
     "output_type": "stream",
     "text": [
      "[0.0000000e+00 0.0000000e+00 7.1525574e-07]\n",
      "[1.0325481 2.0577683 2.9101384]\n"
     ]
    }
   ],
   "source": [
    "import jax \n",
    "import jax.numpy as jnp\n",
    "\n",
    "def f(v):\n",
    "    x = v[0]\n",
    "    y = v[1]\n",
    "    z = v[2]\n",
    "    \n",
    "    fx = (jnp.sin(x*y) + jnp.exp(-x*z) - 0.9)\n",
    "    fy = (z*jnp.sqrt(x**2+y**2) - 6.7)\n",
    "    fz = jnp.tan(y/x) + jnp.cos(z) + 3.2\n",
    "    return jnp.hstack([fx, fy, fz])\n",
    "J = jax.jacfwd(f)\n",
    "xx = jnp.array([1., 2., 2.])\n",
    "n = 100\n",
    "for _ in range(n):\n",
    "    xx = xx - jnp.linalg.inv(J(xx))@f(xx)\n",
    "print(f(xx))\n",
    "print(xx)"
   ]
  },
  {
   "cell_type": "code",
   "execution_count": null,
   "id": "c1682bca-ff14-41a9-aecd-afcc18ff2b2b",
   "metadata": {},
   "outputs": [],
   "source": []
  }
 ],
 "metadata": {
  "kernelspec": {
   "display_name": "Python 3 (ipykernel)",
   "language": "python",
   "name": "python3"
  },
  "language_info": {
   "codemirror_mode": {
    "name": "ipython",
    "version": 3
   },
   "file_extension": ".py",
   "mimetype": "text/x-python",
   "name": "python",
   "nbconvert_exporter": "python",
   "pygments_lexer": "ipython3",
   "version": "3.9.7"
  }
 },
 "nbformat": 4,
 "nbformat_minor": 5
}
